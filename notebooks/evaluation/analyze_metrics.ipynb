{
 "cells": [
  {
   "cell_type": "markdown",
   "id": "6064c960-ed11-4612-a863-449bbb5b76e9",
   "metadata": {},
   "source": [
    "# Analyze performance metrics of registration experiments"
   ]
  },
  {
   "cell_type": "markdown",
   "id": "c2581559-9241-4ba3-8d00-6807d7c5daf8",
   "metadata": {},
   "source": [
    "#### Author: \n",
    "Bruno De Santi, PhD\n",
    "#### Affiliation:\n",
    "Multi-modality Medical Imaging Lab (M3I Lab), University of Twente, Enschede, The Netherlands\n",
    "#### Date:\n",
    "20/09/2023\n",
    "#### Paper/Project Title:\n",
    "Automated three-dimensional image registration for longitudinal photoacoustic imaging (De Santi et al. 2023, JBO)\n",
    "#### GitHub:\n",
    "https://github.com/brunodesanti/muvinn-reg\n",
    "#### License:\n",
    "[Specify the license, e.g., MIT, GPL, etc.]"
   ]
  },
  {
   "cell_type": "markdown",
   "id": "47ede9cd-9645-4942-975b-b8cf6305b1fd",
   "metadata": {},
   "source": [
    "### Import libraries"
   ]
  },
  {
   "cell_type": "code",
   "execution_count": null,
   "id": "a27e2407-b245-4916-a2c7-30972234150e",
   "metadata": {},
   "outputs": [],
   "source": [
    "import numpy as np\n",
    "import matplotlib.pyplot as plt\n",
    "import pandas as pd\n",
    "import os \n",
    "\n",
    "# Font specifications\n",
    "plt.rcParams.update({'font.size': 12})\n",
    "plt.rcParams.update({'font.family': \"sans-serif\"})\n",
    "plt.rcParams.update({'font.sans-serif': \"Arial\"})"
   ]
  },
  {
   "cell_type": "markdown",
   "id": "b6143ae9-d017-4224-9b50-5094c8e79798",
   "metadata": {},
   "source": [
    "### Load, analyze and plot performance metrics included in the specified folder"
   ]
  },
  {
   "cell_type": "code",
   "execution_count": null,
   "id": "ba8ee00e-390c-4b3b-b050-c5851bdb095d",
   "metadata": {},
   "outputs": [],
   "source": [
    "# Name of the experiment\n",
    "experiment_name = 'exp1'\n",
    "\n",
    "# Path where metrics_before, metrics_after and execution_times files are stored\n",
    "path = r'path\\to\\experiment\\folder' \n",
    "\n",
    "# Output path where to save charts figure\n",
    "output_path = r'path\\to\\output\\folder'\n",
    "\n",
    "# Load files and store values in the lists\n",
    "metrics_before = []\n",
    "metrics_after = []\n",
    "execution_times = []\n",
    "for i in os.listdir(path):\n",
    "    if os.path.isfile(os.path.join(path,i)) and 'metrics_before' in i:\n",
    "        metrics_before.append(np.load(os.path.join(path,i), allow_pickle=True).item())\n",
    "    elif os.path.isfile(os.path.join(path,i)) and 'metrics_after' in i:\n",
    "        metrics_after.append(np.load(os.path.join(path,i), allow_pickle=True).item())\n",
    "    elif os.path.isfile(os.path.join(path,i)) and 'execution_time' in i:\n",
    "        execution_times.append(np.load(os.path.join(path,i), allow_pickle=True).item())\n",
    "\n",
    "# Convert from lists to numpy arrays for each metric\n",
    "psnr_before = np.array([d['psnr'] for d in metrics_before])\n",
    "ncc_before = np.array([d['ncc'] for d in metrics_before])\n",
    "dsc_before = np.array([d['dice'] for d in metrics_before])\n",
    "tre_before = np.array([d['tre'] for d in metrics_before])\n",
    "tre_before = tre_before[:,0] # mean TRE\n",
    "\n",
    "psnr_after = np.array([d['psnr'] for d in metrics_after])\n",
    "ncc_after = np.array([d['ncc'] for d in metrics_after])\n",
    "dsc_after = np.array([d['dice'] for d in metrics_after])\n",
    "tre_after = np.array([d['tre'] for d in metrics_after])\n",
    "tre_after = tre_after[:,0] # mean TRE\n",
    "\n",
    "# Concatenate metrics in a single array\n",
    "metrics_before = np.array([psnr_before, ncc_before, dsc_before, tre_before]).T\n",
    "metrics_after = np.array([psnr_after, ncc_after, dsc_after, tre_after]).T\n",
    "\n",
    "# Metric names\n",
    "metrics_name = ('PSNR, dB','NCC','DSC','TRE, mm')\n",
    "\n",
    "# Define y ranges\n",
    "ymins = [30 - 0.1, -0.1, -0.1, -0.1] \n",
    "ymaxs = [50, 1, 1, 15]\n",
    "\n",
    "# Select in order metrics to be plotted\n",
    "ind_metrics = [0, 1, 2, 3]\n",
    "fig, (ax) = plt.subplots(1, len(ind_metrics), figsize=(12, 3))\n",
    "\n",
    "# Plot\n",
    "for i, ind_metric in enumerate(ind_metrics):\n",
    "    ax[i].scatter([-2]*len(metrics_before[:,ind_metric]),metrics_before[:,ind_metric],c='k')\n",
    "    ax[i].scatter([2]*len(metrics_after[:,ind_metric]),metrics_after[:,ind_metric],c='k')\n",
    "    ax[i].spines['top'].set_visible(False)\n",
    "    ax[i].spines['right'].set_visible(False)\n",
    "    ax[i].spines['bottom'].set_visible(False)\n",
    "    ax[i].spines['left'].set_visible(False)\n",
    "    ax[i].get_xaxis().set_ticks([])\n",
    "    ax[i].set_xlim(xmin=-5,xmax=5)\n",
    "    ax[i].set_ylim(ymin=ymins[ind_metric],ymax=ymaxs[ind_metric])\n",
    "    for j in range(0,len(metrics_before[:,ind_metric])):\n",
    "        ax[i].plot((-2,2),(metrics_before[:,ind_metric][j],metrics_after[:,ind_metric][j]),'--',c='k')\n",
    "    ax[i].set_title(metrics_name[ind_metric])\n",
    "    ax[i].grid()\n",
    "plt.show()\n",
    "\n",
    "# Save\n",
    "fig.savefig(r'{}\\metrics_charts_{}.png'.format(output_path, experiment_name))"
   ]
  }
 ],
 "metadata": {
  "kernelspec": {
   "display_name": "reg_env",
   "language": "python",
   "name": "reg_env"
  },
  "language_info": {
   "codemirror_mode": {
    "name": "ipython",
    "version": 3
   },
   "file_extension": ".py",
   "mimetype": "text/x-python",
   "name": "python",
   "nbconvert_exporter": "python",
   "pygments_lexer": "ipython3",
   "version": "3.8.16"
  }
 },
 "nbformat": 4,
 "nbformat_minor": 5
}
