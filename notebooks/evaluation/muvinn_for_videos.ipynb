{
 "cells": [
  {
   "cell_type": "markdown",
   "id": "15063def-86df-4356-bf7c-f28294c47e75",
   "metadata": {},
   "source": [
    "# Apply MUVINN with verbose and produce movies "
   ]
  },
  {
   "cell_type": "markdown",
   "id": "06b1fc5e-9393-40d6-96a4-f23c458cef6b",
   "metadata": {},
   "source": [
    "#### Author: \n",
    "Bruno De Santi, PhD\n",
    "#### Affiliation:\n",
    "Multi-modality Medical Imaging Lab (M3I Lab), University of Twente, Enschede, The Netherlands\n",
    "#### Date:\n",
    "20/09/2023\n",
    "#### Paper/Project Title:\n",
    "Automated three-dimensional image registration for longitudinal photoacoustic imaging (De Santi et al. 2023, JBO)\n",
    "#### GitHub:\n",
    "https://github.com/brunodesanti/muvinn-reg\n",
    "#### License:\n",
    "[Specify the license, e.g., MIT, GPL, etc.]"
   ]
  },
  {
   "cell_type": "markdown",
   "id": "8de0a575-6f72-4845-88a4-244f1838300f",
   "metadata": {
    "tags": []
   },
   "source": [
    "### Import libraries"
   ]
  },
  {
   "cell_type": "code",
   "execution_count": 1,
   "id": "adee29d4-41c9-4a66-907b-fe601dcca274",
   "metadata": {
    "tags": []
   },
   "outputs": [],
   "source": [
    "# (needs to be changed according to your path)\n",
    "abs_path = r'C:\\Users\\DeSantiB\\surfdrive\\PAMMOTH Study\\PAMMOTH image registration\\MUVINN-reg'\n",
    "import sys\n",
    "sys.path.append(abs_path)\n",
    "\n",
    "from models import models_extended_verbose as models\n",
    "from utils import processing as proc\n",
    "from utils import visualizing as vis\n",
    "from utils import evaluating as eva\n",
    "\n",
    "import matplotlib.pyplot as plt\n",
    "import numpy as np\n",
    "import os \n",
    "import torch\n",
    "import time\n",
    "import scipy.ndimage as scnd\n",
    "import SimpleITK as sitk\n",
    "import glob\n",
    "import cv2\n",
    "\n",
    "plot_flag = True # if one wants to plot figures\n",
    "save_flag = True # if one wants to save figures"
   ]
  },
  {
   "cell_type": "markdown",
   "id": "2896d75b-8838-49aa-9355-ea72f2210532",
   "metadata": {
    "tags": []
   },
   "source": [
    "### Apply MUVINN-reg and save results"
   ]
  },
  {
   "cell_type": "code",
   "execution_count": 2,
   "id": "2468ba7c-8b3c-4093-9144-6e6c85fb0519",
   "metadata": {},
   "outputs": [
    {
     "name": "stderr",
     "output_type": "stream",
     "text": [
      "torch.meshgrid: in an upcoming release, it will be required to pass the indexing argument. (Triggered internally at C:\\cb\\pytorch_1000000000000\\work\\aten\\src\\ATen\\native\\TensorShape.cpp:3484.)\n",
      "  0%|                                                                                        | 0/20000 [00:00<?, ?it/s]"
     ]
    },
    {
     "name": "stdout",
     "output_type": "stream",
     "text": [
      "----------  epoch: 1  ----------\n",
      "Loss: -0.14134565\n"
     ]
    },
    {
     "name": "stderr",
     "output_type": "stream",
     "text": [
      "  0%|▍                                                                              | 99/20000 [01:16<18:38, 17.80it/s]"
     ]
    },
    {
     "name": "stdout",
     "output_type": "stream",
     "text": [
      "----------  epoch: 101  ----------\n",
      "Loss: -0.79369485\n"
     ]
    },
    {
     "name": "stderr",
     "output_type": "stream",
     "text": [
      "  1%|▊                                                                             | 200/20000 [01:36<18:35, 17.74it/s]"
     ]
    },
    {
     "name": "stdout",
     "output_type": "stream",
     "text": [
      "----------  epoch: 201  ----------\n",
      "Loss: -0.7755859\n"
     ]
    },
    {
     "name": "stderr",
     "output_type": "stream",
     "text": [
      "  1%|█▏                                                                            | 299/20000 [01:54<18:21, 17.88it/s]"
     ]
    },
    {
     "name": "stdout",
     "output_type": "stream",
     "text": [
      "----------  epoch: 301  ----------\n",
      "Loss: -0.85773134\n"
     ]
    },
    {
     "name": "stderr",
     "output_type": "stream",
     "text": [
      "  2%|█▌                                                                            | 399/20000 [02:14<19:14, 16.98it/s]"
     ]
    },
    {
     "name": "stdout",
     "output_type": "stream",
     "text": [
      "----------  epoch: 401  ----------\n",
      "Loss: -0.874805\n"
     ]
    },
    {
     "name": "stderr",
     "output_type": "stream",
     "text": [
      "  2%|█▉                                                                            | 499/20000 [02:31<18:23, 17.67it/s]"
     ]
    },
    {
     "name": "stdout",
     "output_type": "stream",
     "text": [
      "----------  epoch: 501  ----------\n",
      "Loss: -0.86857736\n"
     ]
    },
    {
     "name": "stderr",
     "output_type": "stream",
     "text": [
      "  3%|██▎                                                                           | 599/20000 [02:49<18:39, 17.33it/s]"
     ]
    },
    {
     "name": "stdout",
     "output_type": "stream",
     "text": [
      "----------  epoch: 601  ----------\n",
      "Loss: -0.87895983\n"
     ]
    },
    {
     "name": "stderr",
     "output_type": "stream",
     "text": [
      "  4%|██▋                                                                           | 700/20000 [03:07<17:10, 18.72it/s]"
     ]
    },
    {
     "name": "stdout",
     "output_type": "stream",
     "text": [
      "----------  epoch: 701  ----------\n",
      "Loss: -0.8868983\n"
     ]
    },
    {
     "name": "stderr",
     "output_type": "stream",
     "text": [
      "  4%|███                                                                           | 799/20000 [03:27<18:32, 17.27it/s]"
     ]
    },
    {
     "name": "stdout",
     "output_type": "stream",
     "text": [
      "----------  epoch: 801  ----------\n",
      "Loss: -0.89180493\n"
     ]
    },
    {
     "name": "stderr",
     "output_type": "stream",
     "text": [
      "  4%|███▌                                                                          | 899/20000 [03:45<18:43, 17.00it/s]"
     ]
    },
    {
     "name": "stdout",
     "output_type": "stream",
     "text": [
      "----------  epoch: 901  ----------\n",
      "Loss: -0.89224464\n"
     ]
    },
    {
     "name": "stderr",
     "output_type": "stream",
     "text": [
      "  5%|███▉                                                                          | 998/20000 [04:02<17:57, 17.63it/s]"
     ]
    },
    {
     "name": "stdout",
     "output_type": "stream",
     "text": [
      "----------  epoch: 1001  ----------\n",
      "Loss: -0.90912515\n"
     ]
    },
    {
     "name": "stderr",
     "output_type": "stream",
     "text": [
      "  6%|████▏                                                                        | 1100/20000 [04:22<18:55, 16.65it/s]"
     ]
    },
    {
     "name": "stdout",
     "output_type": "stream",
     "text": [
      "----------  epoch: 1101  ----------\n",
      "Loss: -0.89187443\n"
     ]
    },
    {
     "name": "stderr",
     "output_type": "stream",
     "text": [
      "  6%|████▌                                                                        | 1200/20000 [04:42<17:39, 17.74it/s]"
     ]
    },
    {
     "name": "stdout",
     "output_type": "stream",
     "text": [
      "----------  epoch: 1201  ----------\n",
      "Loss: -0.9072908\n"
     ]
    },
    {
     "name": "stderr",
     "output_type": "stream",
     "text": [
      "  6%|█████                                                                        | 1300/20000 [05:01<18:39, 16.70it/s]"
     ]
    },
    {
     "name": "stdout",
     "output_type": "stream",
     "text": [
      "----------  epoch: 1301  ----------\n",
      "Loss: -0.9149033\n"
     ]
    },
    {
     "name": "stderr",
     "output_type": "stream",
     "text": [
      "  7%|█████▍                                                                       | 1399/20000 [05:19<17:27, 17.75it/s]"
     ]
    },
    {
     "name": "stdout",
     "output_type": "stream",
     "text": [
      "----------  epoch: 1401  ----------\n",
      "Loss: -0.8959523\n"
     ]
    },
    {
     "name": "stderr",
     "output_type": "stream",
     "text": [
      "  8%|█████▊                                                                       | 1500/20000 [05:38<17:18, 17.81it/s]"
     ]
    },
    {
     "name": "stdout",
     "output_type": "stream",
     "text": [
      "----------  epoch: 1501  ----------\n",
      "Loss: -0.9007213\n"
     ]
    },
    {
     "name": "stderr",
     "output_type": "stream",
     "text": [
      "  8%|██████▏                                                                      | 1600/20000 [05:56<17:06, 17.92it/s]"
     ]
    },
    {
     "name": "stdout",
     "output_type": "stream",
     "text": [
      "----------  epoch: 1601  ----------\n",
      "Loss: -0.90977544\n"
     ]
    },
    {
     "name": "stderr",
     "output_type": "stream",
     "text": [
      "  8%|██████▌                                                                      | 1699/20000 [06:14<17:06, 17.84it/s]"
     ]
    },
    {
     "name": "stdout",
     "output_type": "stream",
     "text": [
      "----------  epoch: 1701  ----------\n",
      "Loss: -0.91267496\n"
     ]
    },
    {
     "name": "stderr",
     "output_type": "stream",
     "text": [
      "  9%|██████▉                                                                      | 1800/20000 [06:33<17:23, 17.44it/s]"
     ]
    },
    {
     "name": "stdout",
     "output_type": "stream",
     "text": [
      "----------  epoch: 1801  ----------\n",
      "Loss: -0.9040568\n"
     ]
    },
    {
     "name": "stderr",
     "output_type": "stream",
     "text": [
      "  9%|███████▎                                                                     | 1898/20000 [06:51<16:02, 18.80it/s]"
     ]
    },
    {
     "name": "stdout",
     "output_type": "stream",
     "text": [
      "----------  epoch: 1901  ----------\n",
      "Loss: -0.9099964\n"
     ]
    },
    {
     "name": "stderr",
     "output_type": "stream",
     "text": [
      " 10%|███████▋                                                                     | 2000/20000 [07:11<16:37, 18.05it/s]"
     ]
    },
    {
     "name": "stdout",
     "output_type": "stream",
     "text": [
      "----------  epoch: 2001  ----------\n",
      "Loss: -0.9058265\n"
     ]
    },
    {
     "name": "stderr",
     "output_type": "stream",
     "text": [
      " 10%|████████                                                                     | 2099/20000 [07:31<16:39, 17.92it/s]"
     ]
    },
    {
     "name": "stdout",
     "output_type": "stream",
     "text": [
      "----------  epoch: 2101  ----------\n",
      "Loss: -0.91888976\n"
     ]
    },
    {
     "name": "stderr",
     "output_type": "stream",
     "text": [
      " 11%|████████▍                                                                    | 2200/20000 [07:53<16:19, 18.18it/s]"
     ]
    },
    {
     "name": "stdout",
     "output_type": "stream",
     "text": [
      "----------  epoch: 2201  ----------\n",
      "Loss: -0.9097173\n"
     ]
    },
    {
     "name": "stderr",
     "output_type": "stream",
     "text": [
      " 11%|████████▊                                                                    | 2299/20000 [08:12<17:03, 17.30it/s]"
     ]
    },
    {
     "name": "stdout",
     "output_type": "stream",
     "text": [
      "----------  epoch: 2301  ----------\n",
      "Loss: -0.91904\n"
     ]
    },
    {
     "name": "stderr",
     "output_type": "stream",
     "text": [
      " 12%|█████████▏                                                                   | 2400/20000 [08:32<16:00, 18.32it/s]"
     ]
    },
    {
     "name": "stdout",
     "output_type": "stream",
     "text": [
      "----------  epoch: 2401  ----------\n",
      "Loss: -0.90040636\n"
     ]
    },
    {
     "name": "stderr",
     "output_type": "stream",
     "text": [
      " 12%|█████████▋                                                                   | 2500/20000 [08:49<16:17, 17.90it/s]"
     ]
    },
    {
     "name": "stdout",
     "output_type": "stream",
     "text": [
      "----------  epoch: 2501  ----------\n",
      "Loss: -0.9017893\n"
     ]
    },
    {
     "name": "stderr",
     "output_type": "stream",
     "text": [
      " 13%|██████████                                                                   | 2600/20000 [09:10<16:22, 17.71it/s]"
     ]
    },
    {
     "name": "stdout",
     "output_type": "stream",
     "text": [
      "----------  epoch: 2601  ----------\n",
      "Loss: -0.92136145\n"
     ]
    },
    {
     "name": "stderr",
     "output_type": "stream",
     "text": [
      " 14%|██████████▍                                                                  | 2700/20000 [09:31<17:11, 16.77it/s]"
     ]
    },
    {
     "name": "stdout",
     "output_type": "stream",
     "text": [
      "----------  epoch: 2701  ----------\n",
      "Loss: -0.90578806\n"
     ]
    },
    {
     "name": "stderr",
     "output_type": "stream",
     "text": [
      " 14%|██████████▊                                                                  | 2798/20000 [09:50<16:31, 17.35it/s]"
     ]
    },
    {
     "name": "stdout",
     "output_type": "stream",
     "text": [
      "----------  epoch: 2801  ----------\n",
      "Loss: -0.9200796\n"
     ]
    },
    {
     "name": "stderr",
     "output_type": "stream",
     "text": [
      " 14%|███████████▏                                                                 | 2900/20000 [10:11<15:24, 18.49it/s]"
     ]
    },
    {
     "name": "stdout",
     "output_type": "stream",
     "text": [
      "----------  epoch: 2901  ----------\n",
      "Loss: -0.9172223\n"
     ]
    },
    {
     "name": "stderr",
     "output_type": "stream",
     "text": [
      " 15%|███████████▌                                                                 | 3000/20000 [10:33<16:06, 17.59it/s]"
     ]
    },
    {
     "name": "stdout",
     "output_type": "stream",
     "text": [
      "----------  epoch: 3001  ----------\n",
      "Loss: -0.9179986\n"
     ]
    },
    {
     "name": "stderr",
     "output_type": "stream",
     "text": [
      " 16%|███████████▉                                                                 | 3100/20000 [10:54<15:34, 18.09it/s]"
     ]
    },
    {
     "name": "stdout",
     "output_type": "stream",
     "text": [
      "----------  epoch: 3101  ----------\n",
      "Loss: -0.9037733\n"
     ]
    },
    {
     "name": "stderr",
     "output_type": "stream",
     "text": [
      " 16%|████████████▎                                                                | 3200/20000 [11:14<15:48, 17.71it/s]"
     ]
    },
    {
     "name": "stdout",
     "output_type": "stream",
     "text": [
      "----------  epoch: 3201  ----------\n",
      "Loss: -0.9050384\n"
     ]
    },
    {
     "name": "stderr",
     "output_type": "stream",
     "text": [
      " 16%|████████████▋                                                                | 3300/20000 [11:34<16:22, 17.00it/s]"
     ]
    },
    {
     "name": "stdout",
     "output_type": "stream",
     "text": [
      "----------  epoch: 3301  ----------\n",
      "Loss: -0.91752595\n"
     ]
    },
    {
     "name": "stderr",
     "output_type": "stream",
     "text": [
      " 17%|█████████████                                                                | 3400/20000 [11:56<15:41, 17.63it/s]"
     ]
    },
    {
     "name": "stdout",
     "output_type": "stream",
     "text": [
      "----------  epoch: 3401  ----------\n",
      "Loss: -0.9040863\n"
     ]
    },
    {
     "name": "stderr",
     "output_type": "stream",
     "text": [
      " 18%|█████████████▍                                                               | 3500/20000 [12:16<15:29, 17.75it/s]"
     ]
    },
    {
     "name": "stdout",
     "output_type": "stream",
     "text": [
      "----------  epoch: 3501  ----------\n",
      "Loss: -0.9099991\n"
     ]
    },
    {
     "name": "stderr",
     "output_type": "stream",
     "text": [
      " 18%|█████████████▊                                                               | 3600/20000 [12:37<15:41, 17.41it/s]"
     ]
    },
    {
     "name": "stdout",
     "output_type": "stream",
     "text": [
      "----------  epoch: 3601  ----------\n",
      "Loss: -0.9192708\n"
     ]
    },
    {
     "name": "stderr",
     "output_type": "stream",
     "text": [
      " 18%|██████████████▏                                                              | 3700/20000 [12:56<15:42, 17.30it/s]"
     ]
    },
    {
     "name": "stdout",
     "output_type": "stream",
     "text": [
      "----------  epoch: 3701  ----------\n",
      "Loss: -0.91562444\n"
     ]
    },
    {
     "name": "stderr",
     "output_type": "stream",
     "text": [
      " 19%|██████████████▋                                                              | 3799/20000 [13:15<15:07, 17.84it/s]"
     ]
    },
    {
     "name": "stdout",
     "output_type": "stream",
     "text": [
      "----------  epoch: 3801  ----------\n",
      "Loss: -0.92128974\n"
     ]
    },
    {
     "name": "stderr",
     "output_type": "stream",
     "text": [
      " 19%|███████████████                                                              | 3899/20000 [13:36<15:30, 17.30it/s]"
     ]
    },
    {
     "name": "stdout",
     "output_type": "stream",
     "text": [
      "----------  epoch: 3901  ----------\n",
      "Loss: -0.9156853\n"
     ]
    },
    {
     "name": "stderr",
     "output_type": "stream",
     "text": [
      " 20%|███████████████▍                                                             | 3998/20000 [13:58<15:30, 17.19it/s]"
     ]
    },
    {
     "name": "stdout",
     "output_type": "stream",
     "text": [
      "----------  epoch: 4000  ----------\n",
      "Loss: -0.9112479\n"
     ]
    },
    {
     "name": "stderr",
     "output_type": "stream",
     "text": [
      " 20%|███████████████                                                            | 4000/20000 [14:12<9:26:42,  2.13s/it]"
     ]
    },
    {
     "name": "stdout",
     "output_type": "stream",
     "text": [
      "----------  epoch: 4001  ----------\n",
      "Loss: -0.80943877\n"
     ]
    },
    {
     "name": "stderr",
     "output_type": "stream",
     "text": [
      " 20%|███████████████▊                                                             | 4100/20000 [14:57<15:43, 16.85it/s]"
     ]
    },
    {
     "name": "stdout",
     "output_type": "stream",
     "text": [
      "----------  epoch: 4101  ----------\n",
      "Loss: -0.8241457\n"
     ]
    },
    {
     "name": "stderr",
     "output_type": "stream",
     "text": [
      " 21%|████████████████▏                                                            | 4200/20000 [15:16<15:43, 16.75it/s]"
     ]
    },
    {
     "name": "stdout",
     "output_type": "stream",
     "text": [
      "----------  epoch: 4201  ----------\n",
      "Loss: -0.8587388\n"
     ]
    },
    {
     "name": "stderr",
     "output_type": "stream",
     "text": [
      " 22%|████████████████▌                                                            | 4300/20000 [15:37<14:34, 17.96it/s]"
     ]
    },
    {
     "name": "stdout",
     "output_type": "stream",
     "text": [
      "----------  epoch: 4301  ----------\n",
      "Loss: -0.8768829\n"
     ]
    },
    {
     "name": "stderr",
     "output_type": "stream",
     "text": [
      " 22%|████████████████▉                                                            | 4400/20000 [15:57<14:11, 18.33it/s]"
     ]
    },
    {
     "name": "stdout",
     "output_type": "stream",
     "text": [
      "----------  epoch: 4401  ----------\n",
      "Loss: -0.89286005\n"
     ]
    },
    {
     "name": "stderr",
     "output_type": "stream",
     "text": [
      " 22%|█████████████████▎                                                           | 4500/20000 [16:17<14:45, 17.50it/s]"
     ]
    },
    {
     "name": "stdout",
     "output_type": "stream",
     "text": [
      "----------  epoch: 4501  ----------\n",
      "Loss: -0.8844867\n"
     ]
    },
    {
     "name": "stderr",
     "output_type": "stream",
     "text": [
      " 23%|█████████████████▋                                                           | 4599/20000 [16:38<14:11, 18.08it/s]"
     ]
    },
    {
     "name": "stdout",
     "output_type": "stream",
     "text": [
      "----------  epoch: 4601  ----------\n",
      "Loss: -0.87068695\n"
     ]
    },
    {
     "name": "stderr",
     "output_type": "stream",
     "text": [
      " 24%|██████████████████                                                           | 4700/20000 [17:00<14:11, 17.97it/s]"
     ]
    },
    {
     "name": "stdout",
     "output_type": "stream",
     "text": [
      "----------  epoch: 4701  ----------\n",
      "Loss: -0.8927453\n"
     ]
    },
    {
     "name": "stderr",
     "output_type": "stream",
     "text": [
      " 24%|██████████████████▍                                                          | 4800/20000 [17:21<14:00, 18.08it/s]"
     ]
    },
    {
     "name": "stdout",
     "output_type": "stream",
     "text": [
      "----------  epoch: 4801  ----------\n",
      "Loss: -0.8988255\n"
     ]
    },
    {
     "name": "stderr",
     "output_type": "stream",
     "text": [
      " 24%|██████████████████▊                                                          | 4899/20000 [17:45<15:15, 16.50it/s]"
     ]
    },
    {
     "name": "stdout",
     "output_type": "stream",
     "text": [
      "----------  epoch: 4901  ----------\n",
      "Loss: -0.8989563\n"
     ]
    },
    {
     "name": "stderr",
     "output_type": "stream",
     "text": [
      " 25%|███████████████████▎                                                         | 5000/20000 [18:06<15:10, 16.47it/s]"
     ]
    },
    {
     "name": "stdout",
     "output_type": "stream",
     "text": [
      "----------  epoch: 5001  ----------\n",
      "Loss: -0.89976895\n"
     ]
    },
    {
     "name": "stderr",
     "output_type": "stream",
     "text": [
      " 25%|███████████████████▋                                                         | 5099/20000 [18:26<14:07, 17.58it/s]"
     ]
    },
    {
     "name": "stdout",
     "output_type": "stream",
     "text": [
      "----------  epoch: 5101  ----------\n",
      "Loss: -0.91229504\n"
     ]
    },
    {
     "name": "stderr",
     "output_type": "stream",
     "text": [
      " 26%|████████████████████                                                         | 5200/20000 [18:48<13:14, 18.64it/s]"
     ]
    },
    {
     "name": "stdout",
     "output_type": "stream",
     "text": [
      "----------  epoch: 5201  ----------\n",
      "Loss: -0.8878773\n"
     ]
    },
    {
     "name": "stderr",
     "output_type": "stream",
     "text": [
      " 26%|████████████████████▍                                                        | 5299/20000 [19:09<13:32, 18.09it/s]"
     ]
    },
    {
     "name": "stdout",
     "output_type": "stream",
     "text": [
      "----------  epoch: 5301  ----------\n",
      "Loss: -0.9015152\n"
     ]
    },
    {
     "name": "stderr",
     "output_type": "stream",
     "text": [
      " 27%|████████████████████▊                                                        | 5399/20000 [19:30<13:33, 17.96it/s]"
     ]
    },
    {
     "name": "stdout",
     "output_type": "stream",
     "text": [
      "----------  epoch: 5401  ----------\n",
      "Loss: -0.9131723\n"
     ]
    },
    {
     "name": "stderr",
     "output_type": "stream",
     "text": [
      " 28%|█████████████████████▏                                                       | 5500/20000 [19:54<14:15, 16.95it/s]"
     ]
    },
    {
     "name": "stdout",
     "output_type": "stream",
     "text": [
      "----------  epoch: 5501  ----------\n",
      "Loss: -0.90148896\n"
     ]
    },
    {
     "name": "stderr",
     "output_type": "stream",
     "text": [
      " 28%|█████████████████████▌                                                       | 5600/20000 [20:14<13:11, 18.20it/s]"
     ]
    },
    {
     "name": "stdout",
     "output_type": "stream",
     "text": [
      "----------  epoch: 5601  ----------\n",
      "Loss: -0.88524926\n"
     ]
    },
    {
     "name": "stderr",
     "output_type": "stream",
     "text": [
      " 28%|█████████████████████▉                                                       | 5700/20000 [20:35<13:20, 17.85it/s]"
     ]
    },
    {
     "name": "stdout",
     "output_type": "stream",
     "text": [
      "----------  epoch: 5701  ----------\n",
      "Loss: -0.9055039\n"
     ]
    },
    {
     "name": "stderr",
     "output_type": "stream",
     "text": [
      " 29%|██████████████████████▎                                                      | 5800/20000 [20:56<13:13, 17.89it/s]"
     ]
    },
    {
     "name": "stdout",
     "output_type": "stream",
     "text": [
      "----------  epoch: 5801  ----------\n",
      "Loss: -0.91124684\n"
     ]
    },
    {
     "name": "stderr",
     "output_type": "stream",
     "text": [
      " 29%|██████████████████████▋                                                      | 5899/20000 [21:16<12:47, 18.38it/s]"
     ]
    },
    {
     "name": "stdout",
     "output_type": "stream",
     "text": [
      "----------  epoch: 5901  ----------\n",
      "Loss: -0.91179216\n"
     ]
    },
    {
     "name": "stderr",
     "output_type": "stream",
     "text": [
      " 30%|███████████████████████                                                      | 5999/20000 [21:36<12:40, 18.41it/s]"
     ]
    },
    {
     "name": "stdout",
     "output_type": "stream",
     "text": [
      "----------  epoch: 6001  ----------\n",
      "Loss: -0.9120283\n"
     ]
    },
    {
     "name": "stderr",
     "output_type": "stream",
     "text": [
      " 30%|███████████████████████▍                                                     | 6099/20000 [21:55<13:26, 17.23it/s]"
     ]
    },
    {
     "name": "stdout",
     "output_type": "stream",
     "text": [
      "----------  epoch: 6101  ----------\n",
      "Loss: -0.89749014\n"
     ]
    },
    {
     "name": "stderr",
     "output_type": "stream",
     "text": [
      " 31%|███████████████████████▊                                                     | 6200/20000 [22:14<12:51, 17.89it/s]"
     ]
    },
    {
     "name": "stdout",
     "output_type": "stream",
     "text": [
      "----------  epoch: 6201  ----------\n",
      "Loss: -0.8973722\n"
     ]
    },
    {
     "name": "stderr",
     "output_type": "stream",
     "text": [
      " 32%|████████████████████████▎                                                    | 6300/20000 [22:29<12:29, 18.27it/s]"
     ]
    },
    {
     "name": "stdout",
     "output_type": "stream",
     "text": [
      "----------  epoch: 6301  ----------\n",
      "Loss: -0.91586685\n"
     ]
    },
    {
     "name": "stderr",
     "output_type": "stream",
     "text": [
      " 32%|████████████████████████▋                                                    | 6398/20000 [22:44<11:46, 19.25it/s]"
     ]
    },
    {
     "name": "stdout",
     "output_type": "stream",
     "text": [
      "----------  epoch: 6401  ----------\n",
      "Loss: -0.9064369\n"
     ]
    },
    {
     "name": "stderr",
     "output_type": "stream",
     "text": [
      " 32%|█████████████████████████                                                    | 6499/20000 [22:58<11:56, 18.85it/s]"
     ]
    },
    {
     "name": "stdout",
     "output_type": "stream",
     "text": [
      "----------  epoch: 6501  ----------\n",
      "Loss: -0.9172211\n"
     ]
    },
    {
     "name": "stderr",
     "output_type": "stream",
     "text": [
      " 33%|█████████████████████████▍                                                   | 6600/20000 [23:13<11:45, 18.99it/s]"
     ]
    },
    {
     "name": "stdout",
     "output_type": "stream",
     "text": [
      "----------  epoch: 6601  ----------\n",
      "Loss: -0.9179221\n"
     ]
    },
    {
     "name": "stderr",
     "output_type": "stream",
     "text": [
      " 33%|█████████████████████████▊                                                   | 6699/20000 [23:27<11:22, 19.48it/s]"
     ]
    },
    {
     "name": "stdout",
     "output_type": "stream",
     "text": [
      "----------  epoch: 6701  ----------\n",
      "Loss: -0.9066931\n"
     ]
    },
    {
     "name": "stderr",
     "output_type": "stream",
     "text": [
      " 34%|██████████████████████████▏                                                  | 6799/20000 [23:42<11:46, 18.67it/s]"
     ]
    },
    {
     "name": "stdout",
     "output_type": "stream",
     "text": [
      "----------  epoch: 6801  ----------\n",
      "Loss: -0.9111934\n"
     ]
    },
    {
     "name": "stderr",
     "output_type": "stream",
     "text": [
      " 34%|██████████████████████████▌                                                  | 6899/20000 [23:56<11:41, 18.69it/s]"
     ]
    },
    {
     "name": "stdout",
     "output_type": "stream",
     "text": [
      "----------  epoch: 6901  ----------\n",
      "Loss: -0.92172056\n"
     ]
    },
    {
     "name": "stderr",
     "output_type": "stream",
     "text": [
      " 35%|██████████████████████████▉                                                  | 6999/20000 [24:11<11:35, 18.70it/s]"
     ]
    },
    {
     "name": "stdout",
     "output_type": "stream",
     "text": [
      "----------  epoch: 7001  ----------\n",
      "Loss: -0.9222837\n"
     ]
    },
    {
     "name": "stderr",
     "output_type": "stream",
     "text": [
      " 35%|███████████████████████████▎                                                 | 7099/20000 [24:25<10:49, 19.85it/s]"
     ]
    },
    {
     "name": "stdout",
     "output_type": "stream",
     "text": [
      "----------  epoch: 7101  ----------\n",
      "Loss: -0.8910234\n"
     ]
    },
    {
     "name": "stderr",
     "output_type": "stream",
     "text": [
      " 36%|███████████████████████████▋                                                 | 7200/20000 [24:40<11:12, 19.02it/s]"
     ]
    },
    {
     "name": "stdout",
     "output_type": "stream",
     "text": [
      "----------  epoch: 7201  ----------\n",
      "Loss: -0.8903371\n"
     ]
    },
    {
     "name": "stderr",
     "output_type": "stream",
     "text": [
      " 36%|████████████████████████████                                                 | 7300/20000 [24:54<11:09, 18.96it/s]"
     ]
    },
    {
     "name": "stdout",
     "output_type": "stream",
     "text": [
      "----------  epoch: 7301  ----------\n",
      "Loss: -0.9055086\n"
     ]
    },
    {
     "name": "stderr",
     "output_type": "stream",
     "text": [
      " 37%|████████████████████████████▍                                                | 7400/20000 [25:09<11:16, 18.63it/s]"
     ]
    },
    {
     "name": "stdout",
     "output_type": "stream",
     "text": [
      "----------  epoch: 7401  ----------\n",
      "Loss: -0.91089666\n"
     ]
    },
    {
     "name": "stderr",
     "output_type": "stream",
     "text": [
      " 37%|████████████████████████████▊                                                | 7499/20000 [25:23<10:53, 19.12it/s]"
     ]
    },
    {
     "name": "stdout",
     "output_type": "stream",
     "text": [
      "----------  epoch: 7501  ----------\n",
      "Loss: -0.90877914\n"
     ]
    },
    {
     "name": "stderr",
     "output_type": "stream",
     "text": [
      " 38%|█████████████████████████████▎                                               | 7600/20000 [25:38<10:59, 18.79it/s]"
     ]
    },
    {
     "name": "stdout",
     "output_type": "stream",
     "text": [
      "----------  epoch: 7601  ----------\n",
      "Loss: -0.91604227\n"
     ]
    },
    {
     "name": "stderr",
     "output_type": "stream",
     "text": [
      " 38%|█████████████████████████████▋                                               | 7700/20000 [25:52<10:47, 18.99it/s]"
     ]
    },
    {
     "name": "stdout",
     "output_type": "stream",
     "text": [
      "----------  epoch: 7701  ----------\n",
      "Loss: -0.9148813\n"
     ]
    },
    {
     "name": "stderr",
     "output_type": "stream",
     "text": [
      " 39%|██████████████████████████████                                               | 7799/20000 [26:07<10:59, 18.50it/s]"
     ]
    },
    {
     "name": "stdout",
     "output_type": "stream",
     "text": [
      "----------  epoch: 7801  ----------\n",
      "Loss: -0.9079379\n"
     ]
    },
    {
     "name": "stderr",
     "output_type": "stream",
     "text": [
      " 40%|██████████████████████████████▍                                              | 7900/20000 [26:21<10:39, 18.93it/s]"
     ]
    },
    {
     "name": "stdout",
     "output_type": "stream",
     "text": [
      "----------  epoch: 7901  ----------\n",
      "Loss: -0.9150131\n"
     ]
    },
    {
     "name": "stderr",
     "output_type": "stream",
     "text": [
      " 40%|██████████████████████████████▊                                              | 7999/20000 [26:36<10:39, 18.77it/s]"
     ]
    },
    {
     "name": "stdout",
     "output_type": "stream",
     "text": [
      "----------  epoch: 8000  ----------\n",
      "Loss: -0.9224967\n"
     ]
    },
    {
     "name": "stderr",
     "output_type": "stream",
     "text": [
      " 40%|██████████████████████████████▊                                              | 7999/20000 [26:51<10:39, 18.77it/s]"
     ]
    },
    {
     "name": "stdout",
     "output_type": "stream",
     "text": [
      "----------  epoch: 8001  ----------\n",
      "Loss: -0.56456983\n"
     ]
    },
    {
     "name": "stderr",
     "output_type": "stream",
     "text": [
      " 40%|███████████████████████████████▏                                             | 8100/20000 [27:06<10:29, 18.91it/s]"
     ]
    },
    {
     "name": "stdout",
     "output_type": "stream",
     "text": [
      "----------  epoch: 8101  ----------\n",
      "Loss: -0.63524836\n"
     ]
    },
    {
     "name": "stderr",
     "output_type": "stream",
     "text": [
      " 41%|███████████████████████████████▌                                             | 8199/20000 [27:21<10:38, 18.49it/s]"
     ]
    },
    {
     "name": "stdout",
     "output_type": "stream",
     "text": [
      "----------  epoch: 8201  ----------\n",
      "Loss: -0.70248526\n"
     ]
    },
    {
     "name": "stderr",
     "output_type": "stream",
     "text": [
      " 42%|███████████████████████████████▉                                             | 8300/20000 [27:36<10:46, 18.09it/s]"
     ]
    },
    {
     "name": "stdout",
     "output_type": "stream",
     "text": [
      "----------  epoch: 8301  ----------\n",
      "Loss: -0.7095499\n"
     ]
    },
    {
     "name": "stderr",
     "output_type": "stream",
     "text": [
      " 42%|████████████████████████████████▎                                            | 8400/20000 [27:50<10:14, 18.89it/s]"
     ]
    },
    {
     "name": "stdout",
     "output_type": "stream",
     "text": [
      "----------  epoch: 8401  ----------\n",
      "Loss: -0.77149415\n"
     ]
    },
    {
     "name": "stderr",
     "output_type": "stream",
     "text": [
      " 42%|████████████████████████████████▋                                            | 8499/20000 [28:05<09:38, 19.90it/s]"
     ]
    },
    {
     "name": "stdout",
     "output_type": "stream",
     "text": [
      "----------  epoch: 8501  ----------\n",
      "Loss: -0.77089274\n"
     ]
    },
    {
     "name": "stderr",
     "output_type": "stream",
     "text": [
      " 43%|█████████████████████████████████                                            | 8599/20000 [28:20<10:15, 18.53it/s]"
     ]
    },
    {
     "name": "stdout",
     "output_type": "stream",
     "text": [
      "----------  epoch: 8601  ----------\n",
      "Loss: -0.79684436\n"
     ]
    },
    {
     "name": "stderr",
     "output_type": "stream",
     "text": [
      " 43%|█████████████████████████████████▍                                           | 8699/20000 [28:34<09:57, 18.90it/s]"
     ]
    },
    {
     "name": "stdout",
     "output_type": "stream",
     "text": [
      "----------  epoch: 8701  ----------\n",
      "Loss: -0.7912825\n"
     ]
    },
    {
     "name": "stderr",
     "output_type": "stream",
     "text": [
      " 44%|█████████████████████████████████▉                                           | 8800/20000 [28:49<09:56, 18.78it/s]"
     ]
    },
    {
     "name": "stdout",
     "output_type": "stream",
     "text": [
      "----------  epoch: 8801  ----------\n",
      "Loss: -0.7999111\n"
     ]
    },
    {
     "name": "stderr",
     "output_type": "stream",
     "text": [
      " 44%|██████████████████████████████████▎                                          | 8900/20000 [29:04<09:57, 18.58it/s]"
     ]
    },
    {
     "name": "stdout",
     "output_type": "stream",
     "text": [
      "----------  epoch: 8901  ----------\n",
      "Loss: -0.78529936\n"
     ]
    },
    {
     "name": "stderr",
     "output_type": "stream",
     "text": [
      " 45%|██████████████████████████████████▋                                          | 8999/20000 [29:19<09:37, 19.06it/s]"
     ]
    },
    {
     "name": "stdout",
     "output_type": "stream",
     "text": [
      "----------  epoch: 9001  ----------\n",
      "Loss: -0.7829785\n"
     ]
    },
    {
     "name": "stderr",
     "output_type": "stream",
     "text": [
      " 46%|███████████████████████████████████                                          | 9100/20000 [29:33<09:55, 18.31it/s]"
     ]
    },
    {
     "name": "stdout",
     "output_type": "stream",
     "text": [
      "----------  epoch: 9101  ----------\n",
      "Loss: -0.8023768\n"
     ]
    },
    {
     "name": "stderr",
     "output_type": "stream",
     "text": [
      " 46%|███████████████████████████████████▍                                         | 9199/20000 [29:48<09:23, 19.16it/s]"
     ]
    },
    {
     "name": "stdout",
     "output_type": "stream",
     "text": [
      "----------  epoch: 9201  ----------\n",
      "Loss: -0.8254297\n"
     ]
    },
    {
     "name": "stderr",
     "output_type": "stream",
     "text": [
      " 46%|███████████████████████████████████▊                                         | 9300/20000 [30:02<09:39, 18.48it/s]"
     ]
    },
    {
     "name": "stdout",
     "output_type": "stream",
     "text": [
      "----------  epoch: 9301  ----------\n",
      "Loss: -0.81845236\n"
     ]
    },
    {
     "name": "stderr",
     "output_type": "stream",
     "text": [
      " 47%|████████████████████████████████████▏                                        | 9400/20000 [30:17<09:19, 18.96it/s]"
     ]
    },
    {
     "name": "stdout",
     "output_type": "stream",
     "text": [
      "----------  epoch: 9401  ----------\n",
      "Loss: -0.8277934\n"
     ]
    },
    {
     "name": "stderr",
     "output_type": "stream",
     "text": [
      " 48%|████████████████████████████████████▌                                        | 9500/20000 [30:31<09:05, 19.25it/s]"
     ]
    },
    {
     "name": "stdout",
     "output_type": "stream",
     "text": [
      "----------  epoch: 9501  ----------\n",
      "Loss: -0.81136423\n"
     ]
    },
    {
     "name": "stderr",
     "output_type": "stream",
     "text": [
      " 48%|████████████████████████████████████▉                                        | 9600/20000 [30:46<09:09, 18.92it/s]"
     ]
    },
    {
     "name": "stdout",
     "output_type": "stream",
     "text": [
      "----------  epoch: 9601  ----------\n",
      "Loss: -0.84214485\n"
     ]
    },
    {
     "name": "stderr",
     "output_type": "stream",
     "text": [
      " 48%|█████████████████████████████████████▎                                       | 9700/20000 [31:00<08:58, 19.12it/s]"
     ]
    },
    {
     "name": "stdout",
     "output_type": "stream",
     "text": [
      "----------  epoch: 9701  ----------\n",
      "Loss: -0.82127076\n"
     ]
    },
    {
     "name": "stderr",
     "output_type": "stream",
     "text": [
      " 49%|█████████████████████████████████████▋                                       | 9800/20000 [31:14<08:57, 18.97it/s]"
     ]
    },
    {
     "name": "stdout",
     "output_type": "stream",
     "text": [
      "----------  epoch: 9801  ----------\n",
      "Loss: -0.79776955\n"
     ]
    },
    {
     "name": "stderr",
     "output_type": "stream",
     "text": [
      " 50%|██████████████████████████████████████                                       | 9900/20000 [31:29<08:52, 18.96it/s]"
     ]
    },
    {
     "name": "stdout",
     "output_type": "stream",
     "text": [
      "----------  epoch: 9901  ----------\n",
      "Loss: -0.81500375\n"
     ]
    },
    {
     "name": "stderr",
     "output_type": "stream",
     "text": [
      " 50%|██████████████████████████████████████                                      | 10000/20000 [31:44<09:09, 18.20it/s]"
     ]
    },
    {
     "name": "stdout",
     "output_type": "stream",
     "text": [
      "----------  epoch: 10001  ----------\n",
      "Loss: -0.84863573\n"
     ]
    },
    {
     "name": "stderr",
     "output_type": "stream",
     "text": [
      " 50%|██████████████████████████████████████▍                                     | 10100/20000 [31:58<08:40, 19.04it/s]"
     ]
    },
    {
     "name": "stdout",
     "output_type": "stream",
     "text": [
      "----------  epoch: 10101  ----------\n",
      "Loss: -0.82324934\n"
     ]
    },
    {
     "name": "stderr",
     "output_type": "stream",
     "text": [
      " 51%|██████████████████████████████████████▊                                     | 10199/20000 [32:12<08:37, 18.94it/s]"
     ]
    },
    {
     "name": "stdout",
     "output_type": "stream",
     "text": [
      "----------  epoch: 10201  ----------\n",
      "Loss: -0.8309627\n"
     ]
    },
    {
     "name": "stderr",
     "output_type": "stream",
     "text": [
      " 52%|███████████████████████████████████████▏                                    | 10300/20000 [32:26<08:22, 19.30it/s]"
     ]
    },
    {
     "name": "stdout",
     "output_type": "stream",
     "text": [
      "----------  epoch: 10301  ----------\n",
      "Loss: -0.8314526\n"
     ]
    },
    {
     "name": "stderr",
     "output_type": "stream",
     "text": [
      " 52%|███████████████████████████████████████▌                                    | 10398/20000 [32:40<08:30, 18.80it/s]"
     ]
    },
    {
     "name": "stdout",
     "output_type": "stream",
     "text": [
      "----------  epoch: 10401  ----------\n",
      "Loss: -0.8365472\n"
     ]
    },
    {
     "name": "stderr",
     "output_type": "stream",
     "text": [
      " 52%|███████████████████████████████████████▉                                    | 10499/20000 [32:55<08:17, 19.11it/s]"
     ]
    },
    {
     "name": "stdout",
     "output_type": "stream",
     "text": [
      "----------  epoch: 10501  ----------\n",
      "Loss: -0.83958167\n"
     ]
    },
    {
     "name": "stderr",
     "output_type": "stream",
     "text": [
      " 53%|████████████████████████████████████████▎                                   | 10599/20000 [33:09<08:10, 19.16it/s]"
     ]
    },
    {
     "name": "stdout",
     "output_type": "stream",
     "text": [
      "----------  epoch: 10601  ----------\n",
      "Loss: -0.82008517\n"
     ]
    },
    {
     "name": "stderr",
     "output_type": "stream",
     "text": [
      " 53%|████████████████████████████████████████▋                                   | 10699/20000 [33:23<08:18, 18.68it/s]"
     ]
    },
    {
     "name": "stdout",
     "output_type": "stream",
     "text": [
      "----------  epoch: 10701  ----------\n",
      "Loss: -0.84977037\n"
     ]
    },
    {
     "name": "stderr",
     "output_type": "stream",
     "text": [
      " 54%|█████████████████████████████████████████                                   | 10799/20000 [33:38<08:24, 18.22it/s]"
     ]
    },
    {
     "name": "stdout",
     "output_type": "stream",
     "text": [
      "----------  epoch: 10801  ----------\n",
      "Loss: -0.8262475\n"
     ]
    },
    {
     "name": "stderr",
     "output_type": "stream",
     "text": [
      " 54%|█████████████████████████████████████████▍                                  | 10899/20000 [33:53<08:16, 18.32it/s]"
     ]
    },
    {
     "name": "stdout",
     "output_type": "stream",
     "text": [
      "----------  epoch: 10901  ----------\n",
      "Loss: -0.83076656\n"
     ]
    },
    {
     "name": "stderr",
     "output_type": "stream",
     "text": [
      " 55%|█████████████████████████████████████████▊                                  | 11000/20000 [34:07<07:37, 19.68it/s]"
     ]
    },
    {
     "name": "stdout",
     "output_type": "stream",
     "text": [
      "----------  epoch: 11001  ----------\n",
      "Loss: -0.8421634\n"
     ]
    },
    {
     "name": "stderr",
     "output_type": "stream",
     "text": [
      " 56%|██████████████████████████████████████████▏                                 | 11100/20000 [34:22<07:50, 18.93it/s]"
     ]
    },
    {
     "name": "stdout",
     "output_type": "stream",
     "text": [
      "----------  epoch: 11101  ----------\n",
      "Loss: -0.81829923\n"
     ]
    },
    {
     "name": "stderr",
     "output_type": "stream",
     "text": [
      " 56%|██████████████████████████████████████████▌                                 | 11200/20000 [34:37<07:42, 19.02it/s]"
     ]
    },
    {
     "name": "stdout",
     "output_type": "stream",
     "text": [
      "----------  epoch: 11201  ----------\n",
      "Loss: -0.840104\n"
     ]
    },
    {
     "name": "stderr",
     "output_type": "stream",
     "text": [
      " 56%|██████████████████████████████████████████▉                                 | 11299/20000 [34:51<07:44, 18.72it/s]"
     ]
    },
    {
     "name": "stdout",
     "output_type": "stream",
     "text": [
      "----------  epoch: 11301  ----------\n",
      "Loss: -0.85564905\n"
     ]
    },
    {
     "name": "stderr",
     "output_type": "stream",
     "text": [
      " 57%|███████████████████████████████████████████▎                                | 11398/20000 [35:06<07:30, 19.11it/s]"
     ]
    },
    {
     "name": "stdout",
     "output_type": "stream",
     "text": [
      "----------  epoch: 11401  ----------\n",
      "Loss: -0.8510252\n"
     ]
    },
    {
     "name": "stderr",
     "output_type": "stream",
     "text": [
      " 57%|███████████████████████████████████████████▋                                | 11499/20000 [35:20<07:25, 19.06it/s]"
     ]
    },
    {
     "name": "stdout",
     "output_type": "stream",
     "text": [
      "----------  epoch: 11501  ----------\n",
      "Loss: -0.8426991\n"
     ]
    },
    {
     "name": "stderr",
     "output_type": "stream",
     "text": [
      " 58%|████████████████████████████████████████████                                | 11599/20000 [35:35<07:44, 18.10it/s]"
     ]
    },
    {
     "name": "stdout",
     "output_type": "stream",
     "text": [
      "----------  epoch: 11601  ----------\n",
      "Loss: -0.842611\n"
     ]
    },
    {
     "name": "stderr",
     "output_type": "stream",
     "text": [
      " 58%|████████████████████████████████████████████▍                               | 11699/20000 [35:50<07:29, 18.48it/s]"
     ]
    },
    {
     "name": "stdout",
     "output_type": "stream",
     "text": [
      "----------  epoch: 11701  ----------\n",
      "Loss: -0.85815907\n"
     ]
    },
    {
     "name": "stderr",
     "output_type": "stream",
     "text": [
      " 59%|████████████████████████████████████████████▊                               | 11798/20000 [36:04<07:15, 18.83it/s]"
     ]
    },
    {
     "name": "stdout",
     "output_type": "stream",
     "text": [
      "----------  epoch: 11801  ----------\n",
      "Loss: -0.8578792\n"
     ]
    },
    {
     "name": "stderr",
     "output_type": "stream",
     "text": [
      " 60%|█████████████████████████████████████████████▏                              | 11900/20000 [36:18<06:47, 19.86it/s]"
     ]
    },
    {
     "name": "stdout",
     "output_type": "stream",
     "text": [
      "----------  epoch: 11901  ----------\n",
      "Loss: -0.8387936\n"
     ]
    },
    {
     "name": "stderr",
     "output_type": "stream",
     "text": [
      " 60%|█████████████████████████████████████████████▌                              | 11999/20000 [36:33<06:56, 19.22it/s]"
     ]
    },
    {
     "name": "stdout",
     "output_type": "stream",
     "text": [
      "----------  epoch: 12000  ----------\n",
      "Loss: -0.84642243\n",
      "----------  epoch: 12001  ----------\n",
      "Loss: -0.6857999\n"
     ]
    },
    {
     "name": "stderr",
     "output_type": "stream",
     "text": [
      " 60%|█████████████████████████████████████████████▉                              | 12099/20000 [37:00<06:56, 18.96it/s]"
     ]
    },
    {
     "name": "stdout",
     "output_type": "stream",
     "text": [
      "----------  epoch: 12101  ----------\n",
      "Loss: -0.48675805\n"
     ]
    },
    {
     "name": "stderr",
     "output_type": "stream",
     "text": [
      " 61%|██████████████████████████████████████████████▎                             | 12198/20000 [37:14<06:53, 18.87it/s]"
     ]
    },
    {
     "name": "stdout",
     "output_type": "stream",
     "text": [
      "----------  epoch: 12201  ----------\n",
      "Loss: -0.5652135\n"
     ]
    },
    {
     "name": "stderr",
     "output_type": "stream",
     "text": [
      " 61%|██████████████████████████████████████████████▋                             | 12299/20000 [37:28<06:42, 19.14it/s]"
     ]
    },
    {
     "name": "stdout",
     "output_type": "stream",
     "text": [
      "----------  epoch: 12301  ----------\n",
      "Loss: -0.5503656\n"
     ]
    },
    {
     "name": "stderr",
     "output_type": "stream",
     "text": [
      " 62%|███████████████████████████████████████████████                             | 12399/20000 [37:43<06:33, 19.33it/s]"
     ]
    },
    {
     "name": "stdout",
     "output_type": "stream",
     "text": [
      "----------  epoch: 12401  ----------\n",
      "Loss: -0.62321293\n"
     ]
    },
    {
     "name": "stderr",
     "output_type": "stream",
     "text": [
      " 62%|███████████████████████████████████████████████▍                            | 12498/20000 [37:57<06:29, 19.28it/s]"
     ]
    },
    {
     "name": "stdout",
     "output_type": "stream",
     "text": [
      "----------  epoch: 12501  ----------\n",
      "Loss: -0.61945903\n"
     ]
    },
    {
     "name": "stderr",
     "output_type": "stream",
     "text": [
      " 63%|███████████████████████████████████████████████▉                            | 12600/20000 [38:11<06:41, 18.43it/s]"
     ]
    },
    {
     "name": "stdout",
     "output_type": "stream",
     "text": [
      "----------  epoch: 12601  ----------\n",
      "Loss: -0.66478926\n"
     ]
    },
    {
     "name": "stderr",
     "output_type": "stream",
     "text": [
      " 64%|████████████████████████████████████████████████▎                           | 12700/20000 [38:26<06:21, 19.12it/s]"
     ]
    },
    {
     "name": "stdout",
     "output_type": "stream",
     "text": [
      "----------  epoch: 12701  ----------\n",
      "Loss: -0.694859\n"
     ]
    },
    {
     "name": "stderr",
     "output_type": "stream",
     "text": [
      " 64%|████████████████████████████████████████████████▋                           | 12799/20000 [38:41<06:12, 19.36it/s]"
     ]
    },
    {
     "name": "stdout",
     "output_type": "stream",
     "text": [
      "----------  epoch: 12801  ----------\n",
      "Loss: -0.64910805\n"
     ]
    },
    {
     "name": "stderr",
     "output_type": "stream",
     "text": [
      " 64%|█████████████████████████████████████████████████                           | 12900/20000 [38:55<06:07, 19.30it/s]"
     ]
    },
    {
     "name": "stdout",
     "output_type": "stream",
     "text": [
      "----------  epoch: 12901  ----------\n",
      "Loss: -0.6513422\n"
     ]
    },
    {
     "name": "stderr",
     "output_type": "stream",
     "text": [
      " 65%|█████████████████████████████████████████████████▍                          | 12998/20000 [39:09<06:05, 19.17it/s]"
     ]
    },
    {
     "name": "stdout",
     "output_type": "stream",
     "text": [
      "----------  epoch: 13001  ----------\n",
      "Loss: -0.70363474\n"
     ]
    },
    {
     "name": "stderr",
     "output_type": "stream",
     "text": [
      " 65%|█████████████████████████████████████████████████▊                          | 13098/20000 [39:24<06:03, 19.00it/s]"
     ]
    },
    {
     "name": "stdout",
     "output_type": "stream",
     "text": [
      "----------  epoch: 13101  ----------\n",
      "Loss: -0.6939598\n"
     ]
    },
    {
     "name": "stderr",
     "output_type": "stream",
     "text": [
      " 66%|██████████████████████████████████████████████████▏                         | 13200/20000 [39:39<06:08, 18.47it/s]"
     ]
    },
    {
     "name": "stdout",
     "output_type": "stream",
     "text": [
      "----------  epoch: 13201  ----------\n",
      "Loss: -0.72212756\n"
     ]
    },
    {
     "name": "stderr",
     "output_type": "stream",
     "text": [
      " 66%|██████████████████████████████████████████████████▌                         | 13299/20000 [39:53<05:46, 19.35it/s]"
     ]
    },
    {
     "name": "stdout",
     "output_type": "stream",
     "text": [
      "----------  epoch: 13301  ----------\n",
      "Loss: -0.703768\n"
     ]
    },
    {
     "name": "stderr",
     "output_type": "stream",
     "text": [
      " 67%|██████████████████████████████████████████████████▉                         | 13399/20000 [40:08<05:44, 19.16it/s]"
     ]
    },
    {
     "name": "stdout",
     "output_type": "stream",
     "text": [
      "----------  epoch: 13401  ----------\n",
      "Loss: -0.72727495\n"
     ]
    },
    {
     "name": "stderr",
     "output_type": "stream",
     "text": [
      " 68%|███████████████████████████████████████████████████▎                        | 13500/20000 [40:22<05:37, 19.26it/s]"
     ]
    },
    {
     "name": "stdout",
     "output_type": "stream",
     "text": [
      "----------  epoch: 13501  ----------\n",
      "Loss: -0.7113404\n"
     ]
    },
    {
     "name": "stderr",
     "output_type": "stream",
     "text": [
      " 68%|███████████████████████████████████████████████████▋                        | 13600/20000 [40:37<05:36, 19.05it/s]"
     ]
    },
    {
     "name": "stdout",
     "output_type": "stream",
     "text": [
      "----------  epoch: 13601  ----------\n",
      "Loss: -0.6879126\n"
     ]
    },
    {
     "name": "stderr",
     "output_type": "stream",
     "text": [
      " 68%|████████████████████████████████████████████████████                        | 13699/20000 [40:51<05:34, 18.86it/s]"
     ]
    },
    {
     "name": "stdout",
     "output_type": "stream",
     "text": [
      "----------  epoch: 13701  ----------\n",
      "Loss: -0.7433224\n"
     ]
    },
    {
     "name": "stderr",
     "output_type": "stream",
     "text": [
      " 69%|████████████████████████████████████████████████████▍                       | 13799/20000 [41:06<05:26, 18.99it/s]"
     ]
    },
    {
     "name": "stdout",
     "output_type": "stream",
     "text": [
      "----------  epoch: 13801  ----------\n",
      "Loss: -0.69486225\n"
     ]
    },
    {
     "name": "stderr",
     "output_type": "stream",
     "text": [
      " 70%|████████████████████████████████████████████████████▊                       | 13900/20000 [41:21<05:25, 18.74it/s]"
     ]
    },
    {
     "name": "stdout",
     "output_type": "stream",
     "text": [
      "----------  epoch: 13901  ----------\n",
      "Loss: -0.6921055\n"
     ]
    },
    {
     "name": "stderr",
     "output_type": "stream",
     "text": [
      " 70%|█████████████████████████████████████████████████████▏                      | 13999/20000 [41:35<05:28, 18.25it/s]"
     ]
    },
    {
     "name": "stdout",
     "output_type": "stream",
     "text": [
      "----------  epoch: 14001  ----------\n",
      "Loss: -0.7172894\n"
     ]
    },
    {
     "name": "stderr",
     "output_type": "stream",
     "text": [
      " 70%|█████████████████████████████████████████████████████▌                      | 14099/20000 [41:50<05:11, 18.96it/s]"
     ]
    },
    {
     "name": "stdout",
     "output_type": "stream",
     "text": [
      "----------  epoch: 14101  ----------\n",
      "Loss: -0.72169256\n"
     ]
    },
    {
     "name": "stderr",
     "output_type": "stream",
     "text": [
      " 71%|█████████████████████████████████████████████████████▉                      | 14200/20000 [42:05<05:03, 19.14it/s]"
     ]
    },
    {
     "name": "stdout",
     "output_type": "stream",
     "text": [
      "----------  epoch: 14201  ----------\n",
      "Loss: -0.7410375\n"
     ]
    },
    {
     "name": "stderr",
     "output_type": "stream",
     "text": [
      " 71%|██████████████████████████████████████████████████████▎                     | 14299/20000 [42:19<04:54, 19.35it/s]"
     ]
    },
    {
     "name": "stdout",
     "output_type": "stream",
     "text": [
      "----------  epoch: 14301  ----------\n",
      "Loss: -0.73751295\n"
     ]
    },
    {
     "name": "stderr",
     "output_type": "stream",
     "text": [
      " 72%|██████████████████████████████████████████████████████▋                     | 14400/20000 [42:34<05:02, 18.51it/s]"
     ]
    },
    {
     "name": "stdout",
     "output_type": "stream",
     "text": [
      "----------  epoch: 14401  ----------\n",
      "Loss: -0.7415395\n"
     ]
    },
    {
     "name": "stderr",
     "output_type": "stream",
     "text": [
      " 72%|███████████████████████████████████████████████████████                     | 14500/20000 [42:49<04:50, 18.94it/s]"
     ]
    },
    {
     "name": "stdout",
     "output_type": "stream",
     "text": [
      "----------  epoch: 14501  ----------\n",
      "Loss: -0.7306804\n"
     ]
    },
    {
     "name": "stderr",
     "output_type": "stream",
     "text": [
      " 73%|███████████████████████████████████████████████████████▍                    | 14598/20000 [43:03<04:49, 18.67it/s]"
     ]
    },
    {
     "name": "stdout",
     "output_type": "stream",
     "text": [
      "----------  epoch: 14601  ----------\n",
      "Loss: -0.7420724\n"
     ]
    },
    {
     "name": "stderr",
     "output_type": "stream",
     "text": [
      " 73%|███████████████████████████████████████████████████████▊                    | 14699/20000 [43:18<04:44, 18.63it/s]"
     ]
    },
    {
     "name": "stdout",
     "output_type": "stream",
     "text": [
      "----------  epoch: 14701  ----------\n",
      "Loss: -0.7345593\n"
     ]
    },
    {
     "name": "stderr",
     "output_type": "stream",
     "text": [
      " 74%|████████████████████████████████████████████████████████▏                   | 14800/20000 [43:32<04:33, 19.03it/s]"
     ]
    },
    {
     "name": "stdout",
     "output_type": "stream",
     "text": [
      "----------  epoch: 14801  ----------\n",
      "Loss: -0.7508393\n"
     ]
    },
    {
     "name": "stderr",
     "output_type": "stream",
     "text": [
      " 74%|████████████████████████████████████████████████████████▌                   | 14898/20000 [43:47<04:29, 18.94it/s]"
     ]
    },
    {
     "name": "stdout",
     "output_type": "stream",
     "text": [
      "----------  epoch: 14901  ----------\n",
      "Loss: -0.7228644\n"
     ]
    },
    {
     "name": "stderr",
     "output_type": "stream",
     "text": [
      " 75%|████████████████████████████████████████████████████████▉                   | 14998/20000 [44:01<04:24, 18.92it/s]"
     ]
    },
    {
     "name": "stdout",
     "output_type": "stream",
     "text": [
      "----------  epoch: 15001  ----------\n",
      "Loss: -0.7448832\n"
     ]
    },
    {
     "name": "stderr",
     "output_type": "stream",
     "text": [
      " 76%|█████████████████████████████████████████████████████████▍                  | 15100/20000 [44:16<04:19, 18.86it/s]"
     ]
    },
    {
     "name": "stdout",
     "output_type": "stream",
     "text": [
      "----------  epoch: 15101  ----------\n",
      "Loss: -0.71442884\n"
     ]
    },
    {
     "name": "stderr",
     "output_type": "stream",
     "text": [
      " 76%|█████████████████████████████████████████████████████████▊                  | 15199/20000 [44:31<04:12, 19.03it/s]"
     ]
    },
    {
     "name": "stdout",
     "output_type": "stream",
     "text": [
      "----------  epoch: 15201  ----------\n",
      "Loss: -0.73582596\n"
     ]
    },
    {
     "name": "stderr",
     "output_type": "stream",
     "text": [
      " 76%|██████████████████████████████████████████████████████████▏                 | 15300/20000 [44:45<04:07, 19.00it/s]"
     ]
    },
    {
     "name": "stdout",
     "output_type": "stream",
     "text": [
      "----------  epoch: 15301  ----------\n",
      "Loss: -0.73023874\n"
     ]
    },
    {
     "name": "stderr",
     "output_type": "stream",
     "text": [
      " 77%|██████████████████████████████████████████████████████████▌                 | 15398/20000 [45:00<04:06, 18.64it/s]"
     ]
    },
    {
     "name": "stdout",
     "output_type": "stream",
     "text": [
      "----------  epoch: 15401  ----------\n",
      "Loss: -0.7420343\n"
     ]
    },
    {
     "name": "stderr",
     "output_type": "stream",
     "text": [
      " 77%|██████████████████████████████████████████████████████████▉                 | 15499/20000 [45:14<03:57, 18.95it/s]"
     ]
    },
    {
     "name": "stdout",
     "output_type": "stream",
     "text": [
      "----------  epoch: 15501  ----------\n",
      "Loss: -0.7250657\n"
     ]
    },
    {
     "name": "stderr",
     "output_type": "stream",
     "text": [
      " 78%|███████████████████████████████████████████████████████████▎                | 15598/20000 [45:29<04:00, 18.34it/s]"
     ]
    },
    {
     "name": "stdout",
     "output_type": "stream",
     "text": [
      "----------  epoch: 15601  ----------\n",
      "Loss: -0.7536319\n"
     ]
    },
    {
     "name": "stderr",
     "output_type": "stream",
     "text": [
      " 78%|███████████████████████████████████████████████████████████▋                | 15700/20000 [45:44<03:38, 19.69it/s]"
     ]
    },
    {
     "name": "stdout",
     "output_type": "stream",
     "text": [
      "----------  epoch: 15701  ----------\n",
      "Loss: -0.73939174\n"
     ]
    },
    {
     "name": "stderr",
     "output_type": "stream",
     "text": [
      " 79%|████████████████████████████████████████████████████████████                | 15799/20000 [45:59<03:48, 18.37it/s]"
     ]
    },
    {
     "name": "stdout",
     "output_type": "stream",
     "text": [
      "----------  epoch: 15801  ----------\n",
      "Loss: -0.7604629\n"
     ]
    },
    {
     "name": "stderr",
     "output_type": "stream",
     "text": [
      " 80%|████████████████████████████████████████████████████████████▍               | 15900/20000 [46:13<03:42, 18.43it/s]"
     ]
    },
    {
     "name": "stdout",
     "output_type": "stream",
     "text": [
      "----------  epoch: 15901  ----------\n",
      "Loss: -0.72267634\n"
     ]
    },
    {
     "name": "stderr",
     "output_type": "stream",
     "text": [
      " 80%|████████████████████████████████████████████████████████████▊               | 15998/20000 [46:28<03:36, 18.46it/s]"
     ]
    },
    {
     "name": "stdout",
     "output_type": "stream",
     "text": [
      "----------  epoch: 16000  ----------\n",
      "Loss: -0.7403812\n"
     ]
    },
    {
     "name": "stderr",
     "output_type": "stream",
     "text": [
      " 80%|███████████████████████████████████████████████████████████▏              | 16000/20000 [46:37<1:31:23,  1.37s/it]"
     ]
    },
    {
     "name": "stdout",
     "output_type": "stream",
     "text": [
      "----------  epoch: 16001  ----------\n",
      "Loss: -0.39415637\n"
     ]
    },
    {
     "name": "stderr",
     "output_type": "stream",
     "text": [
      " 80%|█████████████████████████████████████████████████████████████▏              | 16099/20000 [46:54<03:27, 18.82it/s]"
     ]
    },
    {
     "name": "stdout",
     "output_type": "stream",
     "text": [
      "----------  epoch: 16101  ----------\n",
      "Loss: -0.27741754\n"
     ]
    },
    {
     "name": "stderr",
     "output_type": "stream",
     "text": [
      " 81%|█████████████████████████████████████████████████████████████▌              | 16199/20000 [47:08<03:22, 18.78it/s]"
     ]
    },
    {
     "name": "stdout",
     "output_type": "stream",
     "text": [
      "----------  epoch: 16201  ----------\n",
      "Loss: -0.24389769\n"
     ]
    },
    {
     "name": "stderr",
     "output_type": "stream",
     "text": [
      " 82%|█████████████████████████████████████████████████████████████▉              | 16300/20000 [47:23<03:12, 19.19it/s]"
     ]
    },
    {
     "name": "stdout",
     "output_type": "stream",
     "text": [
      "----------  epoch: 16301  ----------\n",
      "Loss: -0.273368\n"
     ]
    },
    {
     "name": "stderr",
     "output_type": "stream",
     "text": [
      " 82%|██████████████████████████████████████████████████████████████▎             | 16400/20000 [47:38<03:13, 18.65it/s]"
     ]
    },
    {
     "name": "stdout",
     "output_type": "stream",
     "text": [
      "----------  epoch: 16401  ----------\n",
      "Loss: -0.28429025\n"
     ]
    },
    {
     "name": "stderr",
     "output_type": "stream",
     "text": [
      " 82%|██████████████████████████████████████████████████████████████▋             | 16499/20000 [47:53<03:03, 19.09it/s]"
     ]
    },
    {
     "name": "stdout",
     "output_type": "stream",
     "text": [
      "----------  epoch: 16501  ----------\n",
      "Loss: -0.3372788\n"
     ]
    },
    {
     "name": "stderr",
     "output_type": "stream",
     "text": [
      " 83%|███████████████████████████████████████████████████████████████             | 16600/20000 [48:07<02:59, 18.96it/s]"
     ]
    },
    {
     "name": "stdout",
     "output_type": "stream",
     "text": [
      "----------  epoch: 16601  ----------\n",
      "Loss: -0.3529058\n"
     ]
    },
    {
     "name": "stderr",
     "output_type": "stream",
     "text": [
      " 84%|███████████████████████████████████████████████████████████████▍            | 16700/20000 [48:22<02:58, 18.50it/s]"
     ]
    },
    {
     "name": "stdout",
     "output_type": "stream",
     "text": [
      "----------  epoch: 16701  ----------\n",
      "Loss: -0.3481953\n"
     ]
    },
    {
     "name": "stderr",
     "output_type": "stream",
     "text": [
      " 84%|███████████████████████████████████████████████████████████████▊            | 16799/20000 [48:36<02:52, 18.56it/s]"
     ]
    },
    {
     "name": "stdout",
     "output_type": "stream",
     "text": [
      "----------  epoch: 16801  ----------\n",
      "Loss: -0.3890301\n"
     ]
    },
    {
     "name": "stderr",
     "output_type": "stream",
     "text": [
      " 84%|████████████████████████████████████████████████████████████████▏           | 16900/20000 [48:51<02:41, 19.22it/s]"
     ]
    },
    {
     "name": "stdout",
     "output_type": "stream",
     "text": [
      "----------  epoch: 16901  ----------\n",
      "Loss: -0.46277398\n"
     ]
    },
    {
     "name": "stderr",
     "output_type": "stream",
     "text": [
      " 85%|████████████████████████████████████████████████████████████████▌           | 17000/20000 [49:05<02:36, 19.21it/s]"
     ]
    },
    {
     "name": "stdout",
     "output_type": "stream",
     "text": [
      "----------  epoch: 17001  ----------\n",
      "Loss: -0.4104104\n"
     ]
    },
    {
     "name": "stderr",
     "output_type": "stream",
     "text": [
      " 86%|████████████████████████████████████████████████████████████████▉           | 17100/20000 [49:20<02:32, 18.99it/s]"
     ]
    },
    {
     "name": "stdout",
     "output_type": "stream",
     "text": [
      "----------  epoch: 17101  ----------\n",
      "Loss: -0.43626434\n"
     ]
    },
    {
     "name": "stderr",
     "output_type": "stream",
     "text": [
      " 86%|█████████████████████████████████████████████████████████████████▎          | 17200/20000 [49:34<02:32, 18.40it/s]"
     ]
    },
    {
     "name": "stdout",
     "output_type": "stream",
     "text": [
      "----------  epoch: 17201  ----------\n",
      "Loss: -0.4312603\n"
     ]
    },
    {
     "name": "stderr",
     "output_type": "stream",
     "text": [
      " 86%|█████████████████████████████████████████████████████████████████▋          | 17299/20000 [49:49<02:16, 19.75it/s]"
     ]
    },
    {
     "name": "stdout",
     "output_type": "stream",
     "text": [
      "----------  epoch: 17301  ----------\n",
      "Loss: -0.48424786\n"
     ]
    },
    {
     "name": "stderr",
     "output_type": "stream",
     "text": [
      " 87%|██████████████████████████████████████████████████████████████████          | 17399/20000 [50:03<02:12, 19.57it/s]"
     ]
    },
    {
     "name": "stdout",
     "output_type": "stream",
     "text": [
      "----------  epoch: 17401  ----------\n",
      "Loss: -0.48777258\n"
     ]
    },
    {
     "name": "stderr",
     "output_type": "stream",
     "text": [
      " 88%|██████████████████████████████████████████████████████████████████▌         | 17500/20000 [50:18<02:12, 18.84it/s]"
     ]
    },
    {
     "name": "stdout",
     "output_type": "stream",
     "text": [
      "----------  epoch: 17501  ----------\n",
      "Loss: -0.36183214\n"
     ]
    },
    {
     "name": "stderr",
     "output_type": "stream",
     "text": [
      " 88%|██████████████████████████████████████████████████████████████████▉         | 17600/20000 [50:32<02:05, 19.07it/s]"
     ]
    },
    {
     "name": "stdout",
     "output_type": "stream",
     "text": [
      "----------  epoch: 17601  ----------\n",
      "Loss: -0.42088956\n"
     ]
    },
    {
     "name": "stderr",
     "output_type": "stream",
     "text": [
      " 88%|███████████████████████████████████████████████████████████████████▎        | 17700/20000 [50:47<02:03, 18.63it/s]"
     ]
    },
    {
     "name": "stdout",
     "output_type": "stream",
     "text": [
      "----------  epoch: 17701  ----------\n",
      "Loss: -0.483437\n"
     ]
    },
    {
     "name": "stderr",
     "output_type": "stream",
     "text": [
      " 89%|███████████████████████████████████████████████████████████████████▋        | 17800/20000 [51:02<01:58, 18.52it/s]"
     ]
    },
    {
     "name": "stdout",
     "output_type": "stream",
     "text": [
      "----------  epoch: 17801  ----------\n",
      "Loss: -0.46341965\n"
     ]
    },
    {
     "name": "stderr",
     "output_type": "stream",
     "text": [
      " 89%|████████████████████████████████████████████████████████████████████        | 17899/20000 [51:17<01:49, 19.26it/s]"
     ]
    },
    {
     "name": "stdout",
     "output_type": "stream",
     "text": [
      "----------  epoch: 17901  ----------\n",
      "Loss: -0.50105447\n"
     ]
    },
    {
     "name": "stderr",
     "output_type": "stream",
     "text": [
      " 90%|████████████████████████████████████████████████████████████████████▍       | 17999/20000 [51:31<01:45, 18.96it/s]"
     ]
    },
    {
     "name": "stdout",
     "output_type": "stream",
     "text": [
      "----------  epoch: 18001  ----------\n",
      "Loss: -0.45756957\n"
     ]
    },
    {
     "name": "stderr",
     "output_type": "stream",
     "text": [
      " 90%|████████████████████████████████████████████████████████████████████▊       | 18099/20000 [51:46<01:42, 18.59it/s]"
     ]
    },
    {
     "name": "stdout",
     "output_type": "stream",
     "text": [
      "----------  epoch: 18101  ----------\n",
      "Loss: -0.5247464\n"
     ]
    },
    {
     "name": "stderr",
     "output_type": "stream",
     "text": [
      " 91%|█████████████████████████████████████████████████████████████████████▏      | 18199/20000 [52:00<01:34, 19.05it/s]"
     ]
    },
    {
     "name": "stdout",
     "output_type": "stream",
     "text": [
      "----------  epoch: 18201  ----------\n",
      "Loss: -0.4858856\n"
     ]
    },
    {
     "name": "stderr",
     "output_type": "stream",
     "text": [
      " 91%|█████████████████████████████████████████████████████████████████████▌      | 18299/20000 [52:15<01:26, 19.65it/s]"
     ]
    },
    {
     "name": "stdout",
     "output_type": "stream",
     "text": [
      "----------  epoch: 18301  ----------\n",
      "Loss: -0.50827575\n"
     ]
    },
    {
     "name": "stderr",
     "output_type": "stream",
     "text": [
      " 92%|█████████████████████████████████████████████████████████████████████▉      | 18398/20000 [52:30<01:23, 19.09it/s]"
     ]
    },
    {
     "name": "stdout",
     "output_type": "stream",
     "text": [
      "----------  epoch: 18401  ----------\n",
      "Loss: -0.4836947\n"
     ]
    },
    {
     "name": "stderr",
     "output_type": "stream",
     "text": [
      " 92%|██████████████████████████████████████████████████████████████████████▎     | 18500/20000 [52:44<01:19, 18.95it/s]"
     ]
    },
    {
     "name": "stdout",
     "output_type": "stream",
     "text": [
      "----------  epoch: 18501  ----------\n",
      "Loss: -0.47126925\n"
     ]
    },
    {
     "name": "stderr",
     "output_type": "stream",
     "text": [
      " 93%|██████████████████████████████████████████████████████████████████████▋     | 18600/20000 [52:59<01:14, 18.91it/s]"
     ]
    },
    {
     "name": "stdout",
     "output_type": "stream",
     "text": [
      "----------  epoch: 18601  ----------\n",
      "Loss: -0.44214937\n"
     ]
    },
    {
     "name": "stderr",
     "output_type": "stream",
     "text": [
      " 93%|███████████████████████████████████████████████████████████████████████     | 18699/20000 [53:14<01:09, 18.84it/s]"
     ]
    },
    {
     "name": "stdout",
     "output_type": "stream",
     "text": [
      "----------  epoch: 18701  ----------\n",
      "Loss: -0.48506722\n"
     ]
    },
    {
     "name": "stderr",
     "output_type": "stream",
     "text": [
      " 94%|███████████████████████████████████████████████████████████████████████▍    | 18799/20000 [53:29<01:02, 19.16it/s]"
     ]
    },
    {
     "name": "stdout",
     "output_type": "stream",
     "text": [
      "----------  epoch: 18801  ----------\n",
      "Loss: -0.4670145\n"
     ]
    },
    {
     "name": "stderr",
     "output_type": "stream",
     "text": [
      " 94%|███████████████████████████████████████████████████████████████████████▊    | 18900/20000 [53:43<00:59, 18.55it/s]"
     ]
    },
    {
     "name": "stdout",
     "output_type": "stream",
     "text": [
      "----------  epoch: 18901  ----------\n",
      "Loss: -0.47378772\n"
     ]
    },
    {
     "name": "stderr",
     "output_type": "stream",
     "text": [
      " 95%|████████████████████████████████████████████████████████████████████████▏   | 18999/20000 [53:58<00:52, 19.02it/s]"
     ]
    },
    {
     "name": "stdout",
     "output_type": "stream",
     "text": [
      "----------  epoch: 19001  ----------\n",
      "Loss: -0.46983448\n"
     ]
    },
    {
     "name": "stderr",
     "output_type": "stream",
     "text": [
      " 96%|████████████████████████████████████████████████████████████████████████▌   | 19100/20000 [54:12<00:48, 18.40it/s]"
     ]
    },
    {
     "name": "stdout",
     "output_type": "stream",
     "text": [
      "----------  epoch: 19101  ----------\n",
      "Loss: -0.49423343\n"
     ]
    },
    {
     "name": "stderr",
     "output_type": "stream",
     "text": [
      " 96%|████████████████████████████████████████████████████████████████████████▉   | 19199/20000 [54:27<00:42, 18.89it/s]"
     ]
    },
    {
     "name": "stdout",
     "output_type": "stream",
     "text": [
      "----------  epoch: 19201  ----------\n",
      "Loss: -0.4953338\n"
     ]
    },
    {
     "name": "stderr",
     "output_type": "stream",
     "text": [
      " 96%|█████████████████████████████████████████████████████████████████████████▎  | 19300/20000 [54:42<00:37, 18.77it/s]"
     ]
    },
    {
     "name": "stdout",
     "output_type": "stream",
     "text": [
      "----------  epoch: 19301  ----------\n",
      "Loss: -0.5355099\n"
     ]
    },
    {
     "name": "stderr",
     "output_type": "stream",
     "text": [
      " 97%|█████████████████████████████████████████████████████████████████████████▋  | 19398/20000 [54:57<00:31, 19.07it/s]"
     ]
    },
    {
     "name": "stdout",
     "output_type": "stream",
     "text": [
      "----------  epoch: 19401  ----------\n",
      "Loss: -0.5507337\n"
     ]
    },
    {
     "name": "stderr",
     "output_type": "stream",
     "text": [
      " 97%|██████████████████████████████████████████████████████████████████████████  | 19498/20000 [55:11<00:26, 19.03it/s]"
     ]
    },
    {
     "name": "stdout",
     "output_type": "stream",
     "text": [
      "----------  epoch: 19501  ----------\n",
      "Loss: -0.49762303\n"
     ]
    },
    {
     "name": "stderr",
     "output_type": "stream",
     "text": [
      " 98%|██████████████████████████████████████████████████████████████████████████▍ | 19599/20000 [55:26<00:21, 18.53it/s]"
     ]
    },
    {
     "name": "stdout",
     "output_type": "stream",
     "text": [
      "----------  epoch: 19601  ----------\n",
      "Loss: -0.48820022\n"
     ]
    },
    {
     "name": "stderr",
     "output_type": "stream",
     "text": [
      " 98%|██████████████████████████████████████████████████████████████████████████▊ | 19699/20000 [55:41<00:15, 18.89it/s]"
     ]
    },
    {
     "name": "stdout",
     "output_type": "stream",
     "text": [
      "----------  epoch: 19701  ----------\n",
      "Loss: -0.4610722\n"
     ]
    },
    {
     "name": "stderr",
     "output_type": "stream",
     "text": [
      " 99%|███████████████████████████████████████████████████████████████████████████▏| 19799/20000 [55:55<00:10, 19.69it/s]"
     ]
    },
    {
     "name": "stdout",
     "output_type": "stream",
     "text": [
      "----------  epoch: 19801  ----------\n",
      "Loss: -0.54943115\n"
     ]
    },
    {
     "name": "stderr",
     "output_type": "stream",
     "text": [
      " 99%|███████████████████████████████████████████████████████████████████████████▌| 19899/20000 [56:10<00:05, 18.63it/s]"
     ]
    },
    {
     "name": "stdout",
     "output_type": "stream",
     "text": [
      "----------  epoch: 19901  ----------\n",
      "Loss: -0.52574855\n"
     ]
    },
    {
     "name": "stderr",
     "output_type": "stream",
     "text": [
      "100%|███████████████████████████████████████████████████████████████████████████▉| 19999/20000 [56:24<00:00, 19.00it/s]"
     ]
    },
    {
     "name": "stdout",
     "output_type": "stream",
     "text": [
      "----------  epoch: 20000  ----------\n",
      "Loss: -0.5189421\n"
     ]
    },
    {
     "name": "stderr",
     "output_type": "stream",
     "text": [
      "100%|████████████████████████████████████████████████████████████████████████████| 20000/20000 [56:33<00:00,  5.89it/s]\n"
     ]
    }
   ],
   "source": [
    "# Data path (needs to be changed according to your path)\n",
    "data_path = r'C:\\Users\\DeSantiB\\surfdrive\\PAMMOTH Study\\PAMMOTH image registration\\MUVINN-reg\\notebooks\\data'\n",
    "\n",
    "# Path to directory where landmarks are stored (needs to be changed according to your path)\n",
    "landmarks_path = r'C:\\Users\\DeSantiB\\surfdrive\\PAMMOTH Study\\PAMMOTH image registration\\MUVINN-reg\\notebooks\\mevislab\\landmarks'\n",
    "\n",
    "# Load and pad fixed image\n",
    "fixed_acq = '01_01'\n",
    "fixed_path = data_path + os.path.sep + fixed_acq + '.npy'\n",
    "fixed_data = np.load(fixed_path, allow_pickle=True).item()\n",
    "fixed_image = proc.pad_rec(fixed_data[\"rec\"], ((3, 3), (3, 3),(3, 3)))\n",
    "\n",
    "# Pad depth map and cup mask\n",
    "depth_map = proc.pad_rec(fixed_data[\"depth_map\"], ((3, 3), (3, 3),(3, 3)))\n",
    "cup_mask = proc.pad_rec(fixed_data[\"cup_mask\"], ((3, 3), (3, 3),(3, 3)))\n",
    "\n",
    "# Processing fixed image for image visualization\n",
    "frangi_options_pp = dict()\n",
    "frangi_options_pp['sigmas'] = (2, 3, 4)\n",
    "frangi_options_pp['alpha'] = 0.5\n",
    "frangi_options_pp['beta'] = 0.5\n",
    "frangi_options_pp['gamma'] = 1\n",
    "frangi_options_pp['bw_flag'] = True  \n",
    "\n",
    "aim_options_pp = dict()\n",
    "aim_options_pp['half_size_win'] = 5\n",
    "aim_options_pp['min_sd'] = 0.1\n",
    "aim_options_pp['weights'] = (0.2, 0.8)\n",
    "\n",
    "_, _ , fixed_image_pp = proc.processing_vis(fixed_image, frangi_options_pp, aim_options_pp, gpu = 'cuda') \n",
    "            \n",
    "# Adaptive thresholding for vascular segmentation of fixed image\n",
    "ti = 0.008 # threshold at cup surface\n",
    "tf = 0.003 # threshold at maximum depth\n",
    "tau = 100 # decay rate\n",
    "fixed_mask = proc.segment_vessels(fixed_image_pp, depth_map, ti = ti, tf = tf, tau = tau)\n",
    "\n",
    "# Define sampling mask\n",
    "sample_mask = np.bitwise_and(scnd.binary_dilation(cup_mask, np.ones((3, 3, 3))), scnd.binary_dilation(fixed_mask, np.ones((1, 1, 1))))\n",
    "\n",
    "# Convert to CUDA tensor\n",
    "fixed_image_t = torch.FloatTensor(fixed_image).cuda()\n",
    "\n",
    "moving_acqs = ('06_01',)\n",
    "for moving_acq in moving_acqs:\n",
    "    \n",
    "    # Load and pad moving image\n",
    "    moving_path = data_path + os.path.sep + moving_acq + '.npy'\n",
    "    moving_data = np.load(moving_path, allow_pickle = True).item() #item() to return each item in tuples\n",
    "    moving_image = proc.pad_rec(moving_data[\"rec\"], ((3, 3), (3, 3),(3, 3)))\n",
    "    \n",
    "    # Process moving image\n",
    "    _, _ , moving_image_pp = proc.processing_vis(moving_image, frangi_options_pp, aim_options_pp, gpu = 'cuda')\n",
    "\n",
    "    # Adaptive thresholding for vascular segmentation of moving image\n",
    "    moving_mask = proc.segment_vessels(moving_image_pp, depth_map, ti = ti, tf = tf, tau = tau)\n",
    "    \n",
    "    # Convert to CUDA tensor\n",
    "    moving_image_t = torch.FloatTensor(moving_image).cuda()\n",
    "    \n",
    "    # MUVINN-reg settings and parameters\n",
    "    kwargs = {}\n",
    "    kwargs['mask'] = sample_mask\n",
    "\n",
    "    # Number of epochs\n",
    "    kwargs['epochs'] = 20000\n",
    "    # Total number of points to be sampled each iteration\n",
    "    kwargs['batch_size'] = 200 * (5 ** 3)\n",
    "    \n",
    "    # Sigma values during optimization\n",
    "    kwargs['frangi_sigmas'] = np.array([12, 9, 5, 3, 1.5])\n",
    "    \n",
    "    # Epochs for each sigma as percentage of total number of epochs\n",
    "    frangi_interval = np.array([0.2, 0.2, 0.2, 0.2, 0.2]) \n",
    "    kwargs['frangi_epochs'] = np.insert(np.cumsum(np.floor(frangi_interval*kwargs['epochs']))[:-1],0,0)\n",
    "\n",
    "    # Data term loss function\n",
    "    kwargs['loss_function'] = 'ncc'\n",
    "    # Width of local patches around sampled points\n",
    "    kwargs['ncc_widths'] = 2*kwargs['frangi_sigmas']/100\n",
    "\n",
    "    # Regularization\n",
    "    kwargs['jacobian_regularization'] = True\n",
    "    kwargs['alpha_jacobian'] = 1\n",
    "    kwargs['hyper_regularization'] = False\n",
    "    kwargs['alpha_hyper'] = 0.25\n",
    "\n",
    "    # Network architecture\n",
    "    kwargs['layers'] = [3,300,300,300,300,300,300,3]\n",
    "    kwargs['omega'] = 30\n",
    "\n",
    "    # Optimizer settings\n",
    "    kwargs['optimizer'] = 'adam' \n",
    "    kwargs['lr'] = 5e-5\n",
    "    \n",
    "    # Decrease learning rate when decreasing sigma\n",
    "    kwargs['scheduler_ms'] = kwargs['frangi_epochs'] # MultiStepLR scheduler parameters\n",
    "    kwargs['scheduler_gamma'] = 0.95\n",
    "\n",
    "    # If true print results during optimization\n",
    "    kwargs['verbose'] = True \n",
    "    # Folder where to save verbose results if verbose is true (needs to be changed according to your path)\n",
    "    kwargs['save_folder'] = r'C:\\Users\\DeSantiB\\surfdrive\\PAMMOTH Study\\PAMMOTH image registration\\MUVINN-reg\\notebooks\\evaluation\\verbose'\n",
    "    # Verbose interval in epochs\n",
    "    kwargs['log_interval'] = int(kwargs['epochs']/200)\n",
    "    \n",
    "    # Frangi parameters inside optimization\n",
    "    frangi_options = dict()\n",
    "    frangi_options['alpha'] = 0.5\n",
    "    frangi_options['beta'] = 0.5\n",
    "    frangi_options['gamma'] = 0.1\n",
    "    frangi_options['bw_flag'] = True # White voxels are vessels\n",
    "    kwargs['frangi_options'] = frangi_options\n",
    "    \n",
    "    # Adaptive intensity modulation parameters inside optimization\n",
    "    aim_options = dict()\n",
    "    aim_options['half_size_win'] = 5\n",
    "    aim_options['min_sd'] = 0.1\n",
    "\n",
    "    # Initialize model\n",
    "    ImpReg = models.ImplicitRegistrator(moving_image_t, fixed_image_t, **kwargs)\n",
    "    # Run model optimization\n",
    "    ImpReg.train()"
   ]
  },
  {
   "cell_type": "markdown",
   "id": "de9e0adc-335a-4e62-a236-78da43b3163c",
   "metadata": {},
   "source": [
    "### Load frames, sort them, write and save movie"
   ]
  },
  {
   "cell_type": "code",
   "execution_count": 3,
   "id": "130599ee-5d47-408f-88ca-3e73fed33e6b",
   "metadata": {},
   "outputs": [],
   "source": [
    "# Path where frames are stored\n",
    "frames_path = r'C:\\Users\\DeSantiB\\surfdrive\\PAMMOTH Study\\PAMMOTH image registration\\MUVINN-reg\\notebooks\\evaluation\\verbose' # verbose folderù\n",
    "\n",
    "# Specify which frames to select, e.g. for overlays specify \"overlay\"\n",
    "frames_name = 'overlay'\n",
    "\n",
    "# Path where to save movie\n",
    "output_path = r'C:\\Users\\DeSantiB\\surfdrive\\PAMMOTH Study\\PAMMOTH image registration\\MUVINN-reg\\notebooks\\evaluation\\verbose\\overlay.avi'\n",
    "\n",
    "# Extract filenames and load them in order (iteration number)\n",
    "numbers = []\n",
    "for fname in glob.glob(r'{}\\{}_*.png'.format(frames_path, frames_name)):\n",
    "    numbers.append(int(fname.split(\"_\")[-1].split(\".\")[0]))\n",
    "s = np.array(numbers)\n",
    "sort_index = np.argsort(s)\n",
    "images = [img for img in glob.glob(r'{}\\{}_*.png'.format(frames_path, frames_name))]\n",
    "sort_images = [images[index] for index in sort_index.astype(int)]\n",
    "frame = cv2.imread(os.path.join(frames_path, images[0]))\n",
    "\n",
    "# Choose output resolution (same as frame as default)\n",
    "height, width, _ = frame.shape\n",
    "\n",
    "# Write and save movie\n",
    "video = cv2.VideoWriter(output_path, 0, 5, (width, height))\n",
    "for image in sort_images:\n",
    "    video.write(cv2.imread(os.path.join(frames_path, image)))\n",
    "    \n",
    "# Specify which frames to select, e.g. for overlays specify \"overlay\"\n",
    "frames_name = 'depth_overlay'\n",
    "\n",
    "# Path where to save movie\n",
    "output_path = r'C:\\Users\\DeSantiB\\surfdrive\\PAMMOTH Study\\PAMMOTH image registration\\MUVINN-reg\\notebooks\\evaluation\\verbose\\depth_overlay.avi'\n",
    "\n",
    "# Extract filenames and load them in order (iteration number)\n",
    "numbers = []\n",
    "for fname in glob.glob(r'{}\\{}_*.png'.format(frames_path, frames_name)):\n",
    "    numbers.append(int(fname.split(\"_\")[-1].split(\".\")[0]))\n",
    "s = np.array(numbers)\n",
    "sort_index = np.argsort(s)\n",
    "images = [img for img in glob.glob(r'{}\\{}_*.png'.format(frames_path, frames_name))]\n",
    "sort_images = [images[index] for index in sort_index.astype(int)]\n",
    "frame = cv2.imread(os.path.join(frames_path, images[0]))\n",
    "\n",
    "# Choose output resolution (same as frame as default)\n",
    "height, width, _ = frame.shape\n",
    "\n",
    "# Write and save movie\n",
    "video = cv2.VideoWriter(output_path, 0, 5, (width, height))\n",
    "for image in sort_images:\n",
    "    video.write(cv2.imread(os.path.join(frames_path, image)))\n",
    "    \n",
    "# Specify which frames to select, e.g. for overlays specify \"overlay\"\n",
    "frames_name = 'cor_fixed'\n",
    "\n",
    "# Path where to save movie\n",
    "output_path = r'C:\\Users\\DeSantiB\\surfdrive\\PAMMOTH Study\\PAMMOTH image registration\\MUVINN-reg\\notebooks\\evaluation\\verbose\\sampling.avi'\n",
    "\n",
    "# Extract filenames and load them in order (iteration number)\n",
    "numbers = []\n",
    "for fname in glob.glob(r'{}\\{}_*.png'.format(frames_path, frames_name)):\n",
    "    numbers.append(int(fname.split(\"_\")[-1].split(\".\")[0]))\n",
    "s = np.array(numbers)\n",
    "sort_index = np.argsort(s)\n",
    "images = [img for img in glob.glob(r'{}\\{}_*.png'.format(frames_path, frames_name))]\n",
    "sort_images = [images[index] for index in sort_index.astype(int)]\n",
    "frame = cv2.imread(os.path.join(frames_path, images[0]))\n",
    "\n",
    "# Choose output resolution (same as frame as default)\n",
    "height, width, _ = frame.shape\n",
    "\n",
    "# Write and save movie\n",
    "video = cv2.VideoWriter(output_path, 0, 5, (width, height))\n",
    "for image in sort_images:\n",
    "    video.write(cv2.imread(os.path.join(frames_path, image)))"
   ]
  }
 ],
 "metadata": {
  "kernelspec": {
   "display_name": "reg_env",
   "language": "python",
   "name": "reg_env"
  },
  "language_info": {
   "codemirror_mode": {
    "name": "ipython",
    "version": 3
   },
   "file_extension": ".py",
   "mimetype": "text/x-python",
   "name": "python",
   "nbconvert_exporter": "python",
   "pygments_lexer": "ipython3",
   "version": "3.8.16"
  }
 },
 "nbformat": 4,
 "nbformat_minor": 5
}
